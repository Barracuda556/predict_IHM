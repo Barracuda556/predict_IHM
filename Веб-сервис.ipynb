{
 "cells": [
  {
   "cell_type": "code",
   "execution_count": 2,
   "id": "9f386107-f6ef-4649-a5ba-36f800d0e817",
   "metadata": {},
   "outputs": [],
   "source": [
    "from flask import Flask, request, jsonify\n",
    "import numpy as np\n",
    "import joblib"
   ]
  },
  {
   "cell_type": "code",
   "execution_count": 3,
   "id": "9821588a-3326-4a35-97fa-3cad387b2cd7",
   "metadata": {},
   "outputs": [
    {
     "name": "stdout",
     "output_type": "stream",
     "text": [
      " * Serving Flask app '__main__'\n",
      " * Debug mode: off\n"
     ]
    },
    {
     "name": "stderr",
     "output_type": "stream",
     "text": [
      "WARNING: This is a development server. Do not use it in a production deployment. Use a production WSGI server instead.\n",
      " * Running on all addresses (0.0.0.0)\n",
      " * Running on http://127.0.0.1:5000\n",
      " * Running on http://192.168.23.241:5000\n",
      "Press CTRL+C to quit\n",
      "127.0.0.1 - - [19/Jul/2025 14:49:09] \"POST /predict HTTP/1.1\" 200 -\n"
     ]
    }
   ],
   "source": [
    "app = Flask(__name__)\n",
    "model = joblib.load('D:\\Учеба\\Аспирантура\\Диссертация\\Томск\\Сериализация\\catboost_IHM.pkl')\n",
    "\n",
    "@app.route('/predict', methods=['POST'])\n",
    "def predict():\n",
    "    data = request.get_json()\n",
    "    features = np.array([data['features']])  # Предполагаем, что приходит {\"features\": [...]}\n",
    "    probability = model.predict_proba(features)[:, 1]#[0, 1]  # Для бинарной классификации\n",
    "    return jsonify({'probability': float(probability[0])})\n",
    "\n",
    "if __name__ == '__main__':\n",
    "    app.run(host='0.0.0.0', port=5000)"
   ]
  },
  {
   "cell_type": "code",
   "execution_count": null,
   "id": "058a17f3-7199-408f-8005-2562d9e3993d",
   "metadata": {},
   "outputs": [],
   "source": [
    "curl -X POST -H \"Content-Type: application/json\" -d \"{\\\"features\\\": [81.0, 75.0, 185.0, 89.0, 0.0, 0.0, 111.0, 0.0, 0.0, 0.0, 7.0, 0.0]}\"  http://localhost:5000/predict"
   ]
  }
 ],
 "metadata": {
  "kernelspec": {
   "display_name": "Python 3 (ipykernel)",
   "language": "python",
   "name": "python3"
  },
  "language_info": {
   "codemirror_mode": {
    "name": "ipython",
    "version": 3
   },
   "file_extension": ".py",
   "mimetype": "text/x-python",
   "name": "python",
   "nbconvert_exporter": "python",
   "pygments_lexer": "ipython3",
   "version": "3.10.2"
  }
 },
 "nbformat": 4,
 "nbformat_minor": 5
}
